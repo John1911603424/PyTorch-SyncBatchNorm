{
 "cells": [
  {
   "cell_type": "markdown",
   "metadata": {},
   "source": [
    "# PyTorch-SyncBatchNorm\n",
    "\n",
    "Example on training MNIST, code adapted from the \n",
    "[tutorial](https://github.com/pytorch/examples/tree/master/mnist)"
   ]
  },
  {
   "cell_type": "code",
   "execution_count": 1,
   "metadata": {},
   "outputs": [],
   "source": [
    "from __future__ import print_function\n",
    "import argparse\n",
    "import torch\n",
    "import torch.nn as nn\n",
    "import torch.nn.functional as F\n",
    "import torch.optim as optim\n",
    "from torch.nn import DataParallel\n",
    "from torchvision import datasets, transforms\n",
    "from torch.autograd import Variable\n",
    "# import the Synchronized BatchNorm here\n",
    "from encoding.nn import BatchNorm2d"
   ]
  },
  {
   "cell_type": "markdown",
   "metadata": {},
   "source": [
    "## Grab the MNIST dataset"
   ]
  },
  {
   "cell_type": "code",
   "execution_count": 2,
   "metadata": {},
   "outputs": [],
   "source": [
    "train_loader = torch.utils.data.DataLoader(\n",
    "    datasets.MNIST('../data', train=True, download=True,\n",
    "                   transform=transforms.Compose([\n",
    "                       transforms.ToTensor(),\n",
    "                       transforms.Normalize((0.1307,), (0.3081,))\n",
    "                   ])),\n",
    "    batch_size=64, shuffle=True, num_workers=1, pin_memory=True)\n",
    "test_loader = torch.utils.data.DataLoader(\n",
    "    datasets.MNIST('../data', train=False, transform=transforms.Compose([\n",
    "                       transforms.ToTensor(),\n",
    "                       transforms.Normalize((0.1307,), (0.3081,))\n",
    "                   ])),\n",
    "    batch_size=1000, shuffle=True, num_workers=1, pin_memory=True)"
   ]
  },
  {
   "cell_type": "markdown",
   "metadata": {},
   "source": [
    "## Define a convolutional neural network"
   ]
  },
  {
   "cell_type": "code",
   "execution_count": 3,
   "metadata": {
    "collapsed": true
   },
   "outputs": [],
   "source": [
    "class Net(nn.Module):\n",
    "    def __init__(self):\n",
    "        super(Net, self).__init__()\n",
    "        self.conv1 = nn.Conv2d(1, 10, kernel_size=5)\n",
    "        self.bn1 = BatchNorm2d(10)\n",
    "        self.conv2 = nn.Conv2d(10, 20, kernel_size=5)\n",
    "        self.conv2_drop = nn.Dropout2d()\n",
    "        self.fc1 = nn.Linear(320, 50)\n",
    "        self.fc2 = nn.Linear(50, 10)\n",
    "\n",
    "    def forward(self, x):\n",
    "        x = F.max_pool2d(self.conv1(x), 2)\n",
    "        x = F.relu(self.bn1(x))\n",
    "        x = F.relu(F.max_pool2d(self.conv2_drop(self.conv2(x)), 2))\n",
    "        x = x.view(-1, 320)\n",
    "        x = F.relu(self.fc1(x))\n",
    "        x = F.dropout(x, training=self.training)\n",
    "        x = self.fc2(x)\n",
    "        return F.log_softmax(x, dim=1)"
   ]
  },
  {
   "cell_type": "markdown",
   "metadata": {},
   "source": [
    "## Create DataParallel\n",
    "Note that using `CUDA_VISIBLE_DEVICES` to control number of GPUs"
   ]
  },
  {
   "cell_type": "code",
   "execution_count": 4,
   "metadata": {
    "collapsed": true
   },
   "outputs": [],
   "source": [
    "model = Net()\n",
    "model.cuda()\n",
    "nGPUs = torch.cuda.device_count()\n",
    "device_ids = [i for i in range(nGPUs)]\n",
    "model = DataParallel(model, device_ids=device_ids)\n",
    "# optimizer\n",
    "optimizer = optim.SGD(model.parameters(), lr=0.01, momentum=0.5)"
   ]
  },
  {
   "cell_type": "code",
   "execution_count": 5,
   "metadata": {
    "collapsed": true
   },
   "outputs": [],
   "source": [
    "def train(epoch):\n",
    "    model.train()\n",
    "    for batch_idx, (data, target) in enumerate(train_loader):\n",
    "        target = target.cuda()\n",
    "        optimizer.zero_grad()\n",
    "        output = model(data)\n",
    "        loss = F.nll_loss(output, target)\n",
    "        loss.backward()\n",
    "        optimizer.step()\n",
    "        if batch_idx % 100 == 0:\n",
    "            print('Train Epoch: {} [{}/{} ({:.0f}%)]\\tLoss: {:.6f}'.format(\n",
    "                epoch, batch_idx * len(data), len(train_loader.dataset),\n",
    "                100. * batch_idx / len(train_loader), loss.data.item()))\n",
    "            \n",
    "def test():\n",
    "    model.eval()\n",
    "    test_loss = 0\n",
    "    correct = 0\n",
    "    for data, target in test_loader:\n",
    "        target = target.cuda()\n",
    "        with torch.no_grad():\n",
    "            output = model(data)\n",
    "            test_loss += F.nll_loss(output, target, size_average=False).data.item()\n",
    "            pred = output.data.max(1, keepdim=True)[1] # get the index of the max log-probability\n",
    "            correct += pred.eq(target.data.view_as(pred)).long().cpu().sum().item()\n",
    "\n",
    "    test_loss /= len(test_loader.dataset)\n",
    "    print('\\nTest set: Average loss: {:.4f}, Accuracy: {}/{} ({:.0f}%)\\n'.format(\n",
    "        test_loss, correct, len(test_loader.dataset),\n",
    "        100. * correct / len(test_loader.dataset)))"
   ]
  },
  {
   "cell_type": "code",
   "execution_count": 6,
   "metadata": {},
   "outputs": [
    {
     "name": "stdout",
     "output_type": "stream",
     "text": [
      "Train Epoch: 1 [0/60000 (0%)]\tLoss: 2.305259\n",
      "Train Epoch: 1 [6400/60000 (11%)]\tLoss: 2.134188\n",
      "Train Epoch: 1 [12800/60000 (21%)]\tLoss: 1.467970\n",
      "Train Epoch: 1 [19200/60000 (32%)]\tLoss: 1.196905\n",
      "Train Epoch: 1 [25600/60000 (43%)]\tLoss: 0.634555\n",
      "Train Epoch: 1 [32000/60000 (53%)]\tLoss: 0.618566\n",
      "Train Epoch: 1 [38400/60000 (64%)]\tLoss: 0.456486\n",
      "Train Epoch: 1 [44800/60000 (75%)]\tLoss: 0.552612\n",
      "Train Epoch: 1 [51200/60000 (85%)]\tLoss: 0.395239\n",
      "Train Epoch: 1 [57600/60000 (96%)]\tLoss: 0.564175\n",
      "\n",
      "Test set: Average loss: 0.2674, Accuracy: 9287/10000 (93%)\n",
      "\n",
      "Train Epoch: 2 [0/60000 (0%)]\tLoss: 0.349143\n",
      "Train Epoch: 2 [6400/60000 (11%)]\tLoss: 0.540707\n",
      "Train Epoch: 2 [12800/60000 (21%)]\tLoss: 0.337070\n",
      "Train Epoch: 2 [19200/60000 (32%)]\tLoss: 0.354382\n",
      "Train Epoch: 2 [25600/60000 (43%)]\tLoss: 0.309477\n",
      "Train Epoch: 2 [32000/60000 (53%)]\tLoss: 0.346477\n",
      "Train Epoch: 2 [38400/60000 (64%)]\tLoss: 0.500346\n",
      "Train Epoch: 2 [44800/60000 (75%)]\tLoss: 0.487035\n",
      "Train Epoch: 2 [51200/60000 (85%)]\tLoss: 0.497973\n",
      "Train Epoch: 2 [57600/60000 (96%)]\tLoss: 0.381800\n",
      "\n",
      "Test set: Average loss: 0.1722, Accuracy: 9516/10000 (95%)\n",
      "\n",
      "Train Epoch: 3 [0/60000 (0%)]\tLoss: 0.189715\n",
      "Train Epoch: 3 [6400/60000 (11%)]\tLoss: 0.296341\n",
      "Train Epoch: 3 [12800/60000 (21%)]\tLoss: 0.301867\n",
      "Train Epoch: 3 [19200/60000 (32%)]\tLoss: 0.460043\n",
      "Train Epoch: 3 [25600/60000 (43%)]\tLoss: 0.215492\n",
      "Train Epoch: 3 [32000/60000 (53%)]\tLoss: 0.294805\n",
      "Train Epoch: 3 [38400/60000 (64%)]\tLoss: 0.308501\n",
      "Train Epoch: 3 [44800/60000 (75%)]\tLoss: 0.136019\n",
      "Train Epoch: 3 [51200/60000 (85%)]\tLoss: 0.266010\n",
      "Train Epoch: 3 [57600/60000 (96%)]\tLoss: 0.245718\n",
      "\n",
      "Test set: Average loss: 0.1362, Accuracy: 9587/10000 (96%)\n",
      "\n",
      "Train Epoch: 4 [0/60000 (0%)]\tLoss: 0.205243\n",
      "Train Epoch: 4 [6400/60000 (11%)]\tLoss: 0.253818\n",
      "Train Epoch: 4 [12800/60000 (21%)]\tLoss: 0.331256\n",
      "Train Epoch: 4 [19200/60000 (32%)]\tLoss: 0.213488\n",
      "Train Epoch: 4 [25600/60000 (43%)]\tLoss: 0.465107\n",
      "Train Epoch: 4 [32000/60000 (53%)]\tLoss: 0.410741\n",
      "Train Epoch: 4 [38400/60000 (64%)]\tLoss: 0.272877\n",
      "Train Epoch: 4 [44800/60000 (75%)]\tLoss: 0.202451\n",
      "Train Epoch: 4 [51200/60000 (85%)]\tLoss: 0.234092\n",
      "Train Epoch: 4 [57600/60000 (96%)]\tLoss: 0.254870\n",
      "\n",
      "Test set: Average loss: 0.1057, Accuracy: 9663/10000 (97%)\n",
      "\n"
     ]
    }
   ],
   "source": [
    "for epoch in range(1, 5):\n",
    "    train(epoch)\n",
    "    test()"
   ]
  },
  {
   "cell_type": "code",
   "execution_count": null,
   "metadata": {
    "collapsed": true
   },
   "outputs": [],
   "source": []
  }
 ],
 "metadata": {
  "kernelspec": {
   "display_name": "Python 3",
   "language": "python",
   "name": "python3"
  },
  "language_info": {
   "codemirror_mode": {
    "name": "ipython",
    "version": 3
   },
   "file_extension": ".py",
   "mimetype": "text/x-python",
   "name": "python",
   "nbconvert_exporter": "python",
   "pygments_lexer": "ipython3",
   "version": "3.6.0"
  }
 },
 "nbformat": 4,
 "nbformat_minor": 2
}
